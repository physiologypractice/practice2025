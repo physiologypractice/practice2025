{
  "cells": [
    {
      "cell_type": "markdown",
      "metadata": {
        "id": "view-in-github",
        "colab_type": "text"
      },
      "source": [
        "<a href=\"https://colab.research.google.com/github/physiologypractice/practice2025/blob/main/%E7%94%9F%E7%90%86%E5%AD%A6%E5%AE%9F%E7%BF%92%E6%BC%94%E7%BF%925_26_2025_%E5%AD%A6%E7%B1%8D%E7%95%AA%E5%8F%B7_%E5%90%8D%E5%89%8D.ipynb\" target=\"_parent\"><img src=\"https://colab.research.google.com/assets/colab-badge.svg\" alt=\"Open In Colab\"/></a>"
      ]
    },
    {
      "cell_type": "markdown",
      "metadata": {
        "id": "GQ-4eGH-DBE8"
      },
      "source": [
        "#生理学実習 2025\n",
        "\n",
        "\n",
        "\n",
        "1. STEP 0 : ライブラリ準備\n",
        "2. STEP 1 : Nernst の式 イオン 1 種の平衡電位を計算しよう\n",
        "3. STEP 2 : GHKの式で透過性を時間変化させて活動電位の膜電位を再現しよう\n",
        "4. STEP 3 : HHモデルをneuronシュミレーターで作成して、イオンの透過性から活動電位をシュミレーションしよう。\n",
        "\n",
        "***コードの走らせ方***\n",
        "1. 再生ボタンを押す\n",
        "2. Alt + Enter (ipadでは、command + Enter)\n",
        "3. 接続中（右上緑のチェックマーク）になっていることを確認して編集してください。\n",
        "4. 接続していない時に編集してしまった場合、焦らずファイルの中の保存のボタンを押しってください。ブラウザの更新を行うとすべての変更データが飛びます。最悪の場合に備えて、スクショを撮っておくと、よいかもしれません。\n"
      ],
      "id": "GQ-4eGH-DBE8"
    },
    {
      "cell_type": "markdown",
      "metadata": {
        "id": "JRtRZ6WSDBE9"
      },
      "source": [
        "## STEP 0  ライブラリ準備\n",
        "記載されているコードを走らせるためには、コードセルにある再生ボタンをぽちっとおしてみてください。\n",
        "\n",
        "\n",
        "***注意点***\n",
        "右上の接続状態がない場合変更を行っても保存されません。変更したり書き込む際は必ず接続してから行ってください。長時間触っていないと接続解除されます。その際は、右上の接続ボタンを押してから再度実験を再開してください。"
      ],
      "id": "JRtRZ6WSDBE9"
    },
    {
      "cell_type": "code",
      "execution_count": null,
      "metadata": {
        "id": "KUAeMHPfDBE-"
      },
      "outputs": [],
      "source": [
        "!pip -q install neuron==8.2.4 ipywidgets pillow"
      ],
      "id": "KUAeMHPfDBE-"
    },
    {
      "cell_type": "markdown",
      "source": [
        "---\n",
        "## STEP 1　ネルンスト式  単一イオン平衡電位を求める  \n",
        "\n",
        "**ゴール**  \n",
        "- Na・K・Cl の平衡電位 E を計算し、静止膜電位 (-65 mV) と比較する。\n",
        "\n",
        "**ネルンスト式**  \n",
        "*授業スライド参照*\n",
        "\n",
        "$$E_{ion}=\\frac{RT}{zF}\\ln\\frac{[ion]_{out}}{[ion]_{in}} \\approx \\frac{60}{z}\\log_{10}\\frac{[ion]_{out}}{[ion]_{in}}$$\n",
        "\n",
        "\n",
        "> **問い**  \n",
        "  **どのイオンの平衡電位が -65 mV に一番近いと思う？- また、その理由は？** 予想を書いてから下へ。  \n",
        "\n",
        "\n",
        "### 予想###\n",
        " ＿＿＿＿＿＿＿＿＿＿＿＿＿＿＿＿＿＿＿＿＿＿＿＿＿＿＿＿＿＿＿＿＿＿＿＿＿＿＿＿＿＿\n",
        "\n",
        "\n"
      ],
      "metadata": {
        "id": "HhYm0WigJU3U"
      },
      "id": "HhYm0WigJU3U"
    },
    {
      "cell_type": "code",
      "execution_count": null,
      "metadata": {
        "id": "aHk1rv6gDBE_"
      },
      "outputs": [],
      "source": [
        "import math, matplotlib.pyplot as plt, numpy as np, pandas as pd  #パッケージ読み込み"
      ],
      "id": "aHk1rv6gDBE_"
    },
    {
      "cell_type": "markdown",
      "source": [
        "### Task 1-A ネルンスト式で K⁺ の平衡電位を計算しよう 🧮\n",
        "\n",
        "1. 下のコードを **Code セル**にコピーか手打ちします。  \n",
        "2. ★マークの数値を好きな外液濃度 `[K⁺]out` に書き換えて **Shift+Enter** #ipadでCom+Enter。  \n",
        "3. 表示された `E_K` を手描きグラフに点を打ちましょう。\n",
        "\n",
        "```python\n",
        "import math\n",
        "\n",
        "# ----------- 入力 -----------\n",
        "K_in  = 140           # [K⁺]in  (mM)  静止時は固定\n",
        "K_out = ____          # ★ 好きな [K⁺]out を入力\n",
        "# ---------------------------\n",
        "\n",
        "E_K = 60 * math.log10(K_out / K_in)   # ネルンスト式\n",
        "print(f\"[K+]out = {K_out:.1f} mM  →  E_K = {E_K:.1f} mV\")\n"
      ],
      "metadata": {
        "id": "XnIz08yFYTbk"
      },
      "id": "XnIz08yFYTbk"
    },
    {
      "cell_type": "code",
      "execution_count": null,
      "metadata": {
        "id": "tOTBiE1HDBE_"
      },
      "outputs": [],
      "source": [
        "K_in  = ###          # [K⁺]in  (mM)  静止時は固定\n",
        "K_out = ####         # ★ 好きな [K⁺]out を入力\n",
        "\n",
        "E_K =  #############################################穴埋\n",
        "\n",
        "print(f\"[K+]out = {K_out:.1f} mM  →  E_K = {E_K:.1f} mV\") #計算結果出力"
      ],
      "id": "tOTBiE1HDBE_"
    },
    {
      "cell_type": "markdown",
      "source": [
        "###プログラムがあっているか、自分で計算してみましょう。また、手計算した画像をこのセルにuploadしてください。###\n",
        "計算過程は、手書きしてください。手書きしたものをスクリーンショットまたは写真でこちらのセルにアップロードしてください。"
      ],
      "metadata": {
        "id": "PPwNBC9mgkju"
      },
      "id": "PPwNBC9mgkju"
    },
    {
      "cell_type": "markdown",
      "source": [
        "### 下記空のグラフをスクリーンショットまたは画像として保存し、Ｋ, Naイオンの平衡電位を書き込んでください。\n",
        "1. K_outを5, 10, 15, 20, 25 mMにしたときの平衡電位を計算し、グラフにプロットしてください。K_inは140 mM固定\n",
        "2. Na_outを5, 10, 50, 140, 280 mMにしたときの平衡電位を計算し、グラフにプロットしてください。 Na_inは140 mM固定"
      ],
      "metadata": {
        "id": "sE75T-B5MWE8"
      },
      "id": "sE75T-B5MWE8"
    },
    {
      "cell_type": "markdown",
      "source": [
        "###1. 課題で作図したものをこのセルにアップロード"
      ],
      "metadata": {
        "id": "5P0hl7mgvxIC"
      },
      "id": "5P0hl7mgvxIC"
    },
    {
      "cell_type": "markdown",
      "source": [
        "###2. 課題で作図したものをこのセルにアップロード"
      ],
      "metadata": {
        "id": "z4bUmIigv_jy"
      },
      "id": "z4bUmIigv_jy"
    },
    {
      "cell_type": "code",
      "execution_count": null,
      "metadata": {
        "id": "zEUqGovfDBFA"
      },
      "outputs": [],
      "source": [
        "fig,ax=plt.subplots(figsize=(4,3))\n",
        "ax.set_xlim(0,12); ax.set_ylim(-120,-40)\n",
        "ax.set_xlabel('[K+]out (mM)'); ax.set_ylabel('E_K (mV)')\n",
        "ax.set_title('K ion Nernst graph'); ax.grid(True)\n",
        "plt.show()"
      ],
      "id": "zEUqGovfDBFA"
    },
    {
      "cell_type": "code",
      "source": [
        "fig,ax=plt.subplots(figsize=(4,3))\n",
        "ax.set_xlim(0,250); ax.set_ylim(-20,80)\n",
        "ax.set_xlabel('[Na+]out (mM)'); ax.set_ylabel('E_Na (mV)')\n",
        "ax.set_title('Na ion Nernst graph'); ax.grid(True)\n",
        "plt.show()"
      ],
      "metadata": {
        "id": "pOHvBT6gddmv"
      },
      "id": "pOHvBT6gddmv",
      "execution_count": null,
      "outputs": []
    },
    {
      "cell_type": "markdown",
      "source": [
        "### 【課題 1】  \n",
        "1. 出力された 3 つの値を下の表に転記し、静止膜電位 -65 mV に最も近いものに **○** を付けよ。K+  Na+   Cl-\n",
        "\n",
        "2. Nernst が +60 mV(=E_Na) を得たとき、何を直感したと思う？ 50 字以内で推測。"
      ],
      "metadata": {
        "id": "AUyKh9PQJwSo"
      },
      "id": "AUyKh9PQJwSo"
    },
    {
      "cell_type": "markdown",
      "metadata": {
        "id": "KlewRsFhDBFA"
      },
      "source": [
        "---\n",
        "## STEP 2  Goldman-Hodgkin-Katz 式\n",
        "\n",
        "\n",
        "Naイオンの透過性が一瞬だけ急上昇すると膜電位は上昇、\n",
        "続いて Kイオンの透過性が増すと速やかに再分極する。\n",
        "この \"Naの透過性上昇 → Kの透過性上昇\" シナリオを GHK 式で確かめます。\n",
        "\n",
        "**疑問（1940s）**  Hodgkin & Katz は「静止電位が E_K よりわずかにプラス」という矛盾に直面。\n",
        "\n",
        "\n",
        " **仮説**  なぜ脱分極側にシフトするか予想してみてください。\n",
        "\n",
        "予測＿＿＿＿＿＿＿＿＿＿＿＿＿＿＿＿＿＿＿＿＿＿＿＿＿＿＿＿＿＿＿＿＿"
      ],
      "id": "KlewRsFhDBFA"
    },
    {
      "cell_type": "markdown",
      "source": [
        "---\n",
        "## 　ゴールドマンの式  透過性を使用して静止膜電位・オーバーシュート・AHP（後過分極）の膜電位を再現\n",
        "\n",
        "**GHK 式**  \n",
        "$$\n",
        "V_m = 60 \\log_{10}\\frac{P_K[K^+]_{out}+P_{Na}[Na^+]_{out}+P_{Cl}[Cl^-]_{in}}\n",
        "                                      {P_K[K^+]_{in}+P_{Na}[Na^+]_{in}+P_{Cl}[Cl^-]_{out}}\n",
        "$$\n",
        "\n",
        "> **問い**  \n",
        "> - P\\_Na を 10 倍にしたら電位は正・負どちらへ動く？  \n",
        "> - P\\_K を 5 倍にすると過分極は強くなる？弱くなる？\n",
        "\n",
        "\n",
        "### 問の答え###\n",
        " ＿＿＿＿＿＿＿＿＿＿＿＿＿＿＿＿＿＿＿＿＿＿＿＿＿＿＿＿＿＿＿＿＿＿＿＿＿＿＿＿＿＿"
      ],
      "metadata": {
        "id": "wGeDR-F9Jyq8"
      },
      "id": "wGeDR-F9Jyq8"
    },
    {
      "cell_type": "markdown",
      "source": [
        "### GHK 式で静止膜電位を計算するコードの読み方\n",
        "\n",
        "この下のセルでは **Na⁺・K⁺・Cl⁻** 3 イオンの濃度と透過性を入れるだけで  \n",
        "膜電位 \\(V_m\\) を計算できます。プログラムも読んで修正してみましょう。\n",
        "\n",
        "| 行番号 | 内容 | ひと言ポイント |\n",
        "|-------|------|---------------|\n",
        "| ① | `Na_in, Na_out = 15, 140`<br>`Cl_in, Cl_out = 10, 110` | 細胞内 (\\_in) と細胞外 (\\_out) の濃度を **mM** 単位で入力します。必要なら数値を書き換えて OK。 |\n",
        "| ② | `def ghk(PK,PNa,PCl):` | **関数 ghk** を定義しています。|\n",
        "| ③ | `num = PK*K_out + PNa*Na_out + PCl*Cl_in` | GHK 式の **分子**（外側①＋内側 Cl⁻）を計算します。 |\n",
        "| ④ | `den = PK*K_in  + PNa*Na_in  + PCl*Cl_out` | GHK 式の **分母**（内側①＋外側 Cl⁻）を計算します。 |\n",
        "| ⑤ | `return 60*math.log10(num/den)` | 37 °C での定数 61.5 を掛けて \\(\\log_{10}\\) を取り、結果を返します。 |\n",
        "| ⑥ | `Vm_rest = ghk(1, 0.04, 0.45)` | ここで関数を呼び出し、透過性 P<sub>K</sub>=1、P<sub>Na</sub>=0.04、P<sub>Cl</sub>=0.45 を入力しています。**それぞれのイオンの透過性を好きな値に替えてみてください**。 |\n",
        "| ⑦ | `print('Resting Vm (GHK) =', Vm_rest, 'mV')` | 計算結果（静止膜電位）を表示します。 |\n",
        "\n",
        "#### 使い方の手順\n",
        "1. **① の濃度**が与えられていればそのまま、変えたい場合は数字を修正。  \n",
        "2. **⑥ の 3 つの透過性**を好きな値に書き換えます。（P\\_K = 1 固定でも可）  \n",
        "3. **Shift + Enter** でセルを実行。  \n",
        "4. 出力に `Resting Vm (GHK) = 〜 mV` と表示されれば成功です。\n",
        "\n",
        "> **ワンポイント**  \n",
        "\n",
        "> - Cl⁻ は陰イオンなので式の分子・分母が “逆向き” になります。  \n",
        "> - わからなくなったら ③〜⑤ を紙に式展開してみると理解しやすくなります。\n",
        "\n"
      ],
      "metadata": {
        "id": "8wsIdg_ocILT"
      },
      "id": "8wsIdg_ocILT"
    },
    {
      "cell_type": "markdown",
      "source": [
        "| イオン | 内側 (mM) | 外側 (mM) |\n",
        "|:-----:|:---------:|:---------:|\n",
        "| Na⁺   | 15        | 140       |\n",
        "| K⁺    | 140       | 5         |\n",
        "| Cl⁻   | 10        | 110       |\n",
        "\n",
        "Pk=1 Pna=0.04, PCl = 0.45\n",
        "### 手計算して、計算したものをこのセルにuploade ###\n"
      ],
      "metadata": {
        "id": "oiNLA7sDe4we"
      },
      "id": "oiNLA7sDe4we"
    },
    {
      "cell_type": "code",
      "execution_count": null,
      "metadata": {
        "id": "fUVi4hbKDBFB",
        "collapsed": true
      },
      "outputs": [],
      "source": [
        "Na_in, Na_out = #xx, xxx  #各イオンの内、外の濃度を記入してみてください。\n",
        "Cl_in, Cl_out = #xx, xxx\n",
        "K_in, K_out = #xxx, x\n",
        "\n",
        "def ghk(PK,PNa,PCl):                   ###関数化しています。\n",
        "    num=############################穴埋め\n",
        "    den=############################穴埋め\n",
        "    return ### GHKの式です穴埋めを埋めて計算を行ってください。\n",
        "\n",
        "Vm_rest=ghk(1,0.04,0.45)    ###上記で定義した関数を呼び出して、透過性を引数として入力しています。\n",
        "print('Resting Vm (GHK) =', Vm_rest,'mV')"
      ],
      "id": "fUVi4hbKDBFB"
    },
    {
      "cell_type": "markdown",
      "metadata": {
        "id": "o68Lz2FJDBFB"
      },
      "source": [
        "\n",
        "\n",
        "\n",
        "**Clイオンは本実習では考えない（一定）こととします**"
      ],
      "id": "o68Lz2FJDBFB"
    },
    {
      "cell_type": "code",
      "execution_count": null,
      "metadata": {
        "id": "8qt3ZqwaDBFB"
      },
      "outputs": [],
      "source": [
        "P_K, P_Na = 1, 0.04  # ★ 編集\n",
        "Vm = ghk(P_K,P_Na,0.45)\n",
        "print(f'P_Na={P_Na}  P_K={P_K}  →  Vm={Vm:.1f} mV')"
      ],
      "id": "8qt3ZqwaDBFB"
    },
    {
      "cell_type": "markdown",
      "source": [
        "\n",
        "### 【課題 2】  \n",
        "下記条件で得られる膜電位を空白グラフに書き込み作図してください。\n",
        "作成したグラフは次のテキストセルにアップロードしてください。\n",
        "\n",
        "| 課題 No. | 透過性の組み合わせ | 課題内容 |\n",
        "|:--------:|--------------------|----------|\n",
        "| **1** | **P<sub>Na</sub>** = 0.04, 0.2, 0.4, 0.8, 1.0, 5, 10  <br> P<sub>K</sub> = 1  (固定) | それぞれの値で静止膜電位を計算し，P<sub>Na</sub> を横軸にプロットせよ。 |\n",
        "| **2** | **P<sub>K</sub>** = 1–10（1 刻み）  <br> P<sub>Na</sub> = 0.04  (固定) | 各 P<sub>K</sub> で静止膜電位を計算し，P<sub>K</sub> を横軸にプロットせよ。 |\n",
        "| **3** | 時系列配列<br>P<sub>Na</sub> : P<sub>K</sub>=(0.04, 1), ( 20, 1), (5, 7), (0.2, 3), (0, 1), (0.04, 1)  | 1 ms ごとに配列を進めて GHK 式で膜電位を計算し，ステップ波形として描画せよ。 |\n"
      ],
      "metadata": {
        "id": "J42i_LMexziA"
      },
      "id": "J42i_LMexziA"
    },
    {
      "cell_type": "markdown",
      "source": [
        "###1. 課題で作図したものをこのセルにアップロード"
      ],
      "metadata": {
        "id": "gVJJTIYmEa-a"
      },
      "id": "gVJJTIYmEa-a"
    },
    {
      "cell_type": "markdown",
      "source": [
        "###2. 課題で作図したものをこのセルにアップロード"
      ],
      "metadata": {
        "id": "AfmVDQOwzUVa"
      },
      "id": "AfmVDQOwzUVa"
    },
    {
      "cell_type": "markdown",
      "source": [
        "###3. 課題で作図したものをこのセルにアップロード"
      ],
      "metadata": {
        "id": "hcQ_WRBzzVXS"
      },
      "id": "hcQ_WRBzzVXS"
    },
    {
      "cell_type": "markdown",
      "metadata": {
        "id": "zjOZJ4QLDBFB"
      },
      "source": [
        "### Task 3用 : 空白グラフ (P_Na 横軸)"
      ],
      "id": "zjOZJ4QLDBFB"
    },
    {
      "cell_type": "code",
      "execution_count": null,
      "metadata": {
        "id": "Dg-N-DtfDBFB"
      },
      "outputs": [],
      "source": [
        "fig,ax=plt.subplots(figsize=(4,3))\n",
        "ax.set_xlim(0,20); ax.set_ylim(-90,60)\n",
        "ax.set_xlabel('P_Na'); ax.set_ylabel('Vm (mV)')\n",
        "ax.set_title('Na GHK graph'); ax.grid(True)\n",
        "plt.show()"
      ],
      "id": "Dg-N-DtfDBFB"
    },
    {
      "cell_type": "markdown",
      "source": [
        "### Task 4用 : 空白グラフ (P_K 横軸)"
      ],
      "metadata": {
        "id": "a8syvjmgzg6F"
      },
      "id": "a8syvjmgzg6F"
    },
    {
      "cell_type": "code",
      "source": [
        "fig,ax=plt.subplots(figsize=(4,3))\n",
        "ax.set_xlim(0,10); ax.set_ylim(-90,-60)\n",
        "ax.set_xlabel('P_K'); ax.set_ylabel('Vm (mV)')\n",
        "ax.set_title('K GHK graph'); ax.grid(True)\n",
        "plt.show()"
      ],
      "metadata": {
        "id": "lDP9ip3mzfuE"
      },
      "id": "lDP9ip3mzfuE",
      "execution_count": null,
      "outputs": []
    },
    {
      "cell_type": "markdown",
      "source": [
        "### Task 5用 : 空白グラフ (時間 横軸)"
      ],
      "metadata": {
        "id": "BKusSbBx0LRr"
      },
      "id": "BKusSbBx0LRr"
    },
    {
      "cell_type": "code",
      "source": [
        "fig,ax=plt.subplots(figsize=(4,3))\n",
        "ax.set_xlim(0,5); ax.set_ylim(-90,60)\n",
        "ax.set_xlabel('Time (ms)'); ax.set_ylabel('Vm (mV)')\n",
        "ax.set_title('Action Potential GHK graph'); ax.grid(True)\n",
        "plt.show()"
      ],
      "metadata": {
        "id": "K0y50_NP0QJV"
      },
      "id": "K0y50_NP0QJV",
      "execution_count": null,
      "outputs": []
    },
    {
      "cell_type": "markdown",
      "source": [
        "### 【課題 2】  \n",
        "- 上昇相 (P_Na= 20) で、GHK式において、オーバーシュートが Na単独の平衡電位+60 mV に届かない理由を 1 行で説明。  \n",
        "\n"
      ],
      "metadata": {
        "id": "jTsL955BJ3_7"
      },
      "id": "jTsL955BJ3_7"
    },
    {
      "cell_type": "markdown",
      "metadata": {
        "id": "oIXhUVKYDBFC"
      },
      "source": [
        "###考察\n",
        "課題３の膜電位計算において、Na、Kの透過性を変更することで、どのような波形を再現できるか。"
      ],
      "id": "oIXhUVKYDBFC"
    },
    {
      "cell_type": "markdown",
      "source": [
        "---\n",
        "## STEP 3 Hodgkin–Huxleyモデルで “閾値” と “不応期” を体験する\n",
        "\n",
        "### なぜ HH モデルが必要か\n",
        "* **Goldman–Hodgkin–Katz（GHK）式** … 「イオンがどれだけ通るか」を **定数** として扱い、  \n",
        "  静止膜電位やオーバーシュートの“高さ”は説明できる。  \n",
        "* **Hodgkin–Huxley（HH）式** … 透過性（＝コンダクタンス）が **時間と電位で変わる** ことを組み込み、  \n",
        "  1 ms 足らずの急峻な立ち上がり、再分極、過分極（AHP）まで再現できる。\n",
        "\n",
        "\n",
        "## このセクションでやること\n",
        "| Task | 目的 | コードの変更点 | 期待する観察 |\n",
        "|------|------|---------------|--------------|\n",
        "| **3-A 初発スパイク** | HHで 1 本の活動電位を描く | `stim.amp = 0.1` nA | 立ち上がり・再分極・AHP を確認 |\n",
        "| **3-B 閾値探索** | All-or-none 性を数値で確認 | `amp_list = np.arange(0.02,0.22,0.02)` | 活動電位閾値と局所応答 |\n",
        "| **3-C 不応期測定** | 絶対/相対不応期を定量化 | `stim2.delay = 5–15 ms` | 2 本目のピークが消える→復活する様子 |\n",
        "| **3-D 薬理チェック** | Na⁺ or K⁺ 遮断で各相の寄与を体験 | コメント 1 行 OFF<br> `gnabar_hh = 0` (TTX)<br> `gkbar_hh = 0` (TEA) | TTX：立ち上がり消失<br>TEA：再分極遅延／AHP 消失 |\n",
        "| **3-E 課題** |  | テキスト記入 | 閾値の機序・不応期の原因を簡潔に説明 |\n",
        "\n",
        "---\n",
        "\n",
        "### 実習の流れ（学生向け手順）\n",
        "\n",
        "1. **Run** セル (3-A) → スパイクが見えたらピーク値と AHP をメモ  \n",
        "2. 3-B セルを実行 → 表とグラフで **初めて Spike=1** になった電流値が“閾値”  \n",
        "3. 3-C セルで `stim2.delay` を 6 ms から 1 ms 刻みで伸ばし、  \n",
        "   ピークが復活した遅延を **絶対不応期**、ピーク振幅が半分になる点を **相対不応期** として記録  \n",
        "4. 3-D セル：まず TTX 行だけアンコメント → 立ち上がり消失を確認  \n",
        "   元に戻し、次に TEA 行だけアンコメント → 再分極が遅れ、AHP が消えることを確認  \n",
        "5. 3-E のクイズセルに回答を書き、ノートブックを提出\n",
        "\n",
        "---\n",
        "\n"
      ],
      "metadata": {
        "id": "wTOPA_0gQYTD"
      },
      "id": "wTOPA_0gQYTD"
    },
    {
      "cell_type": "markdown",
      "source": [
        "## STEP 3 活動電位を作りながら「閾値」「不応期」「薬理効果」を体験しよう\n",
        "このセクションでは **4 つの Task** を順に実行します。  \n",
        "> **Task 3-A** 活動電位誘発 → **3-B** 閾値決定 → **3-C** 不応期測定 → **3-D** 薬理学チェック  \n",
        "右側の ★ マークだけ書き換え・ボタン実行で進めてください。\n"
      ],
      "metadata": {
        "id": "fCIdOxYUhaSZ"
      },
      "id": "fCIdOxYUhaSZ"
    },
    {
      "cell_type": "code",
      "source": [
        "# 3-0  共通セットアップ（最初に 1 回だけ実行）\n",
        "from neuron import h, gui\n",
        "import matplotlib.pyplot as plt, numpy as np\n",
        "plt.rcParams['figure.dpi']=110\n",
        "\n",
        "# 軸索モデル（イカ巨大軸索 ≈１区画で近似）\n",
        "h.celsius = 6.3               # 当時の実験温度 (°C)\n",
        "axon = h.Section(); axon.L = axon.diam = 30   # µm\n",
        "axon.insert('hh')\n",
        "# シングル刺激\n",
        "stim  = h.IClamp(axon(0.5)); stim.delay=5; stim.dur=1; stim.amp=0\n",
        "# 二重刺激（不応期用）\n",
        "stim2 = h.IClamp(axon(0.5)); stim2.delay=10; stim2.dur=1; stim2.amp=0\n",
        "\n",
        "# 記録ベクトル\n",
        "t = h.Vector().record(h._ref_t)\n",
        "v = h.Vector().record(axon(0.5)._ref_v)\n",
        "print(\"Setup complete ✓\")\n"
      ],
      "metadata": {
        "id": "qVttzgvBhbdl"
      },
      "id": "qVttzgvBhbdl",
      "execution_count": null,
      "outputs": []
    },
    {
      "cell_type": "markdown",
      "source": [
        "### Task 3-A 1 本目の活動電位を出してみよう\n",
        "1. 下の Code セルで `stim.amp` を **任意の値** に変更  \n",
        "2. 活動電位が出たら`stim.amp` を 徐々に下げて波形が消えるか確かめる\n",
        "3. 閾値以下ぎりぎりの局所応答がみえる波形、活動電位閾値での刺激波形、閾値の2倍で刺激した時の活動電位波形を画像で保存し、下のテキストセルからuploadして張り付ける。"
      ],
      "metadata": {
        "id": "UCBBcvM8hfXA"
      },
      "id": "UCBBcvM8hfXA"
    },
    {
      "cell_type": "code",
      "source": [
        "# Task 3-A ここだけ ★ を変える\n",
        "stim.amp = 0  # ★ 0 → 0.1 nA にして実行\n",
        "\n",
        "h.tstop = 20\n",
        "h.finitialize(-65)\n",
        "h.run()\n",
        "\n",
        "plt.plot(t, v); plt.axhline(0, ls=':')\n",
        "plt.xlabel('Time (ms)'); plt.ylabel('Vm (mV)')\n",
        "plt.title('Action potential'); plt.grid(True); plt.show()\n"
      ],
      "metadata": {
        "id": "2-FRSFQ-hg4w"
      },
      "id": "2-FRSFQ-hg4w",
      "execution_count": null,
      "outputs": []
    },
    {
      "cell_type": "markdown",
      "source": [
        "### Task 3-B 閾値を探そう（All-or-none）\n",
        "上のセルを実行して 活動電位がでる閾値を探そう →  0.01 または 0.001 nAずつ上昇させてどうなるか見てください。\n",
        "閾値は最下段のレポート欄に記入"
      ],
      "metadata": {
        "id": "rQwFs6bqhnvC"
      },
      "id": "rQwFs6bqhnvC"
    },
    {
      "cell_type": "markdown",
      "source": [
        "###以下３つの波形をupload\n",
        "閾値以下ぎりぎりの局所応答がみえる波形/\n",
        "活動電位閾値で刺激した時の波形/\n",
        "閾値の2倍で刺激した時の活動電位波形"
      ],
      "metadata": {
        "id": "5bb9Ve8LGO1Z"
      },
      "id": "5bb9Ve8LGO1Z"
    },
    {
      "cell_type": "markdown",
      "source": [
        "### Task 3-C 不応期を測ってみよう\n",
        "1. **絶対不応期**: 2 回目が完全に出なくなる最短間隔  \n",
        "2. **相対不応期**: ピークが半分以下になる間隔  \n",
        "★ `stim2.delay` を 6 → 12 ms の範囲で 1 ms 刻みに変更し、グラフで 2 本目の高さを確認！\n",
        "\n",
        "１つ目の刺激は0.1nAで固定し、２つ目の刺激の振幅とdelayを変えてみてください。\n",
        "stim2.delay=10;  stim2.amp=0 delayとampを変更"
      ],
      "metadata": {
        "id": "B2fU85LxhwAU"
      },
      "id": "B2fU85LxhwAU"
    },
    {
      "cell_type": "code",
      "source": [
        "# Task 3-C  ★ ここを試行ごとに変える\n",
        "stim.amp  = 0.3   # 1 本目固定\n",
        "stim2.amp = 1   # 2 本目固定\n",
        "stim2.delay = 15    # ★ 刺激間隔 (ms) = delay - 5\n",
        "\n",
        "h.tstop = stim2.delay + 15\n",
        "h.finitialize(-65); h.run()\n",
        "\n",
        "plt.plot(t, v); plt.axhline(0, ls=':')\n",
        "plt.xlabel('ms'); plt.ylabel('Vm (mV)')\n",
        "plt.title(f'Two-pulse (interval {stim2.delay-5} ms)')\n",
        "plt.grid(); plt.show()\n"
      ],
      "metadata": {
        "id": "h5hAF3qZhvcs"
      },
      "id": "h5hAF3qZhvcs",
      "execution_count": null,
      "outputs": []
    },
    {
      "cell_type": "markdown",
      "source": [
        "\n",
        "|  | 絶対不応期 |相対不応期  |\n",
        "|:--------:|--------------------|----------|\n",
        "||~ xx ms |xx ms ~ xx ms|\n"
      ],
      "metadata": {
        "id": "IL4EwuNnAGKg"
      },
      "id": "IL4EwuNnAGKg"
    },
    {
      "cell_type": "markdown",
      "source": [
        "### Task 3-D 薬理学チェック：TTX と TEA\n",
        "\n",
        "TTX とTEAを作用させると活動電位はどうなるか１行でコメント\n",
        "\n",
        "TTX (Navチャネル阻害剤)→　Naの透過性が\n",
        "___________________________________________________________\n",
        "\n",
        "TEA (Kv阻害剤)→　Kの透過性が\n",
        "___________________________________________________________\n",
        "\n",
        "* まず **TTX** 行だけコメントを外して実行 → 立ち上がりが消える？  \n",
        "* 次に元に戻し、**TEA** 行だけ外して実行 → 再分極がどう変わる？\n"
      ],
      "metadata": {
        "id": "T1N8bDboh0ms"
      },
      "id": "T1N8bDboh0ms"
    },
    {
      "cell_type": "code",
      "source": [
        "\n",
        "stim.amp  = 0.4     # 単パルスに戻す\n",
        "stim2.amp = 0        # 二重刺激オフ\n",
        "\n",
        "# === 薬理スイッチ ===\n",
        "#for seg in axon: seg.gnabar_hh = 0   # TTX: Na⁺ ブロック\n",
        "#for seg in axon: seg.gkbar_hh  = 0   # TEA: K⁺ ブロック\n",
        "\n",
        "h.tstop = 20\n",
        "h.finitialize(-65); h.run()\n",
        "\n",
        "plt.plot(t, v); plt.axhline(0, ls=':')\n",
        "plt.xlabel('ms'); plt.ylabel('Vm (mV)')\n",
        "plt.title('Pharmacology test'); plt.grid(); plt.show()\n"
      ],
      "metadata": {
        "id": "E3hlt4hNh3DX"
      },
      "id": "E3hlt4hNh3DX",
      "execution_count": null,
      "outputs": []
    },
    {
      "cell_type": "markdown",
      "source": [
        "### TTXなし、TTXあり、TEAありで図をここに張り付け"
      ],
      "metadata": {
        "id": "XdbdbOJ1EgsX"
      },
      "id": "XdbdbOJ1EgsX"
    },
    {
      "cell_type": "markdown",
      "source": [
        "## レポート欄（簡潔に記入）\n",
        "1. 閾値電流 (nA)：_______  \n",
        "2. 絶対不応期 (ms)：_______ 相対不応期 (ms)：_______  \n",
        "3. TTX 投与後、スパイクが消えた理由（80 字以内）  \n",
        "   ＿＿＿＿＿＿＿＿＿＿＿＿＿＿＿＿＿＿＿＿＿＿＿＿＿＿＿＿＿＿＿＿＿＿＿＿＿＿＿＿＿＿  \n",
        "4. TEA 投与後、再分極が遅れた理由（80 字以内）  \n",
        "   ＿＿＿＿＿＿＿＿＿＿＿＿＿＿＿＿＿＿＿＿＿＿＿＿＿＿＿＿＿＿＿＿＿＿＿＿＿＿＿＿＿＿  \n",
        "\n",
        "（記入が終わったら「File ▸ 印刷 ▸ pdf」ムードルに提出）\n"
      ],
      "metadata": {
        "id": "_5gu3a91h5Z_"
      },
      "id": "_5gu3a91h5Z_"
    },
    {
      "cell_type": "code",
      "source": [],
      "metadata": {
        "id": "URJR2zLeEW_l"
      },
      "id": "URJR2zLeEW_l",
      "execution_count": null,
      "outputs": []
    }
  ],
  "metadata": {
    "kernelspec": {
      "display_name": "Python 3",
      "name": "python3"
    },
    "language_info": {
      "name": "python"
    },
    "colab": {
      "provenance": [],
      "include_colab_link": true
    }
  },
  "nbformat": 4,
  "nbformat_minor": 5
}