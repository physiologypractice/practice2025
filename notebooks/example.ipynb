from neuron import h
import matplotlib.pyplot as plt

# Hodgkin-Huxleyモデルを挿入したシンプルな細胞
soma = h.Section(name='soma')
soma.L = 20
soma.diam = 20
soma.insert('hh')

# 電流刺激の設定
stim = h.IClamp(soma(0.5))
stim.delay = 5
stim.dur = 1
stim.amp = 0.1

# 記録ベクトル
t_vec = h.Vector().record(h._ref_t)
v_vec = h.Vector().record(soma(0.5)._ref_v)

# シミュレーション実行
h.finitialize(-65)
h.continuerun(40)

# 結果をプロット
plt.figure(figsize=(6, 4))
plt.plot(t_vec, v_vec, label="Membrane Potential")
plt.xlabel("Time (ms)")
plt.ylabel("Voltage (mV)")
plt.title("Simple HH Simulation")
plt.legend()
plt.show()

